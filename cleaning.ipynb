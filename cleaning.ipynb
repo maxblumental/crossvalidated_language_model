{
 "cells": [
  {
   "cell_type": "code",
   "execution_count": 1,
   "metadata": {},
   "outputs": [],
   "source": [
    "import pandas as pd\n",
    "from cleaning import clean_text\n",
    "from tqdm.notebook import tqdm\n",
    "import matplotlib.pyplot as plt\n",
    "%matplotlib inline\n",
    "import re\n",
    "from multiprocessing import Pool"
   ]
  },
  {
   "cell_type": "code",
   "execution_count": 2,
   "metadata": {},
   "outputs": [],
   "source": [
    "raw_df = pd.read_csv('stackexchange_812k.csv')\n",
    "df = raw_df.copy()"
   ]
  },
  {
   "cell_type": "code",
   "execution_count": 3,
   "metadata": {},
   "outputs": [
    {
     "data": {
      "application/vnd.jupyter.widget-view+json": {
       "model_id": "d52d039e72c641f8bad6556e606b19c1",
       "version_major": 2,
       "version_minor": 0
      },
      "text/plain": [
       "HBox(children=(FloatProgress(value=0.0, max=812132.0), HTML(value='')))"
      ]
     },
     "metadata": {},
     "output_type": "display_data"
    },
    {
     "name": "stdout",
     "output_type": "stream",
     "text": [
      "\n"
     ]
    }
   ],
   "source": [
    "with Pool(10) as p:\n",
    "    df.text = p.map(clean_text, tqdm(df.text.values))"
   ]
  },
  {
   "cell_type": "code",
   "execution_count": 4,
   "metadata": {},
   "outputs": [],
   "source": [
    "df.text = df.text.str.lower()"
   ]
  },
  {
   "cell_type": "code",
   "execution_count": 6,
   "metadata": {
    "scrolled": false
   },
   "outputs": [
    {
     "name": "stdout",
     "output_type": "stream",
     "text": [
      "rmANOVA assumes [sphericity](http://homepages.gold.ac.uk/aphome/spheric.html), which doesn't seem likely to me, given the temporally-ordered nature of your data. You may want to use more general mixed-effects methods.\n",
      "–––––\n",
      "rmanova assumes sphericity, which does not seem likely to me, given the temporally ordered nature of your data. you may want to use more general mixed effects methods.\n",
      "\n",
      "\n",
      "\n",
      "\n",
      "This was helpful. Thank you. With 'eform' I managed to do what I wanted: display the coefficients table in exponentiated form. However, it also transfoms SEs and CIs. This transformation is not a simple exponentiation of each corresponding SE and CI. Do you know how 'eform' transforms SEs and CIs? (The Stata Manual says nothing on this)\n",
      "–––––\n",
      "this was helpful. thank you. with eform i managed to do what i wanted: display the coefficients table in exponentiated form. however, it also transfoms ses and cis. this transformation is not a simple exponentiation of each corresponding se and ci. do you know how eform transforms ses and cis? the stata manual says nothing on this\n",
      "\n",
      "\n",
      "\n",
      "\n",
      "Reporting an ANOVA with a continuous predictor (multiple regression)\n",
      "–––––\n",
      "reporting an anova with a continuous predictor multiple regression\n",
      "\n",
      "\n",
      "\n",
      "\n"
     ]
    }
   ],
   "source": [
    "i = df.sample(3).index\n",
    "for b, a in zip(df.text[i], raw_df.text[i]):\n",
    "    print(a)\n",
    "    print('–––––')\n",
    "    print(b)\n",
    "    print('\\n\\n\\n')"
   ]
  },
  {
   "cell_type": "code",
   "execution_count": 7,
   "metadata": {},
   "outputs": [],
   "source": [
    "df = df[df.text.str.len() > 0]"
   ]
  },
  {
   "cell_type": "code",
   "execution_count": 8,
   "metadata": {},
   "outputs": [],
   "source": [
    "from nltk.tokenize import wordpunct_tokenize"
   ]
  },
  {
   "cell_type": "code",
   "execution_count": 10,
   "metadata": {},
   "outputs": [
    {
     "data": {
      "application/vnd.jupyter.widget-view+json": {
       "model_id": "2581916ec7b54e96a817240ae1eb9bee",
       "version_major": 2,
       "version_minor": 0
      },
      "text/plain": [
       "HBox(children=(FloatProgress(value=0.0, max=810600.0), HTML(value='')))"
      ]
     },
     "metadata": {},
     "output_type": "display_data"
    },
    {
     "name": "stdout",
     "output_type": "stream",
     "text": [
      "\n"
     ]
    }
   ],
   "source": [
    "def tokenize(s):\n",
    "    return ' '.join(wordpunct_tokenize(s))\n",
    "\n",
    "with Pool(10) as p:\n",
    "    df.text = p.map(tokenize, tqdm(df.text.values))"
   ]
  },
  {
   "cell_type": "code",
   "execution_count": 11,
   "metadata": {},
   "outputs": [],
   "source": [
    "df.to_csv('tokenized.csv')"
   ]
  }
 ],
 "metadata": {
  "kernelspec": {
   "display_name": "Python 3",
   "language": "python",
   "name": "python3"
  },
  "language_info": {
   "codemirror_mode": {
    "name": "ipython",
    "version": 3
   },
   "file_extension": ".py",
   "mimetype": "text/x-python",
   "name": "python",
   "nbconvert_exporter": "python",
   "pygments_lexer": "ipython3",
   "version": "3.7.7"
  }
 },
 "nbformat": 4,
 "nbformat_minor": 4
}
